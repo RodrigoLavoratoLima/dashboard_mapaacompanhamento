{
 "cells": [
  {
   "cell_type": "code",
   "execution_count": 1,
   "metadata": {},
   "outputs": [],
   "source": [
    "import pandas as pd\n",
    "from datetime import datetime"
   ]
  },
  {
   "cell_type": "code",
   "execution_count": 2,
   "metadata": {},
   "outputs": [],
   "source": [
    "df = pd.read_excel(\"BasedeDados.xlsx\")"
   ]
  },
  {
   "cell_type": "code",
   "execution_count": 4,
   "metadata": {},
   "outputs": [],
   "source": [
    "def descricao_servico(df):\n",
    "    df_temp = []\n",
    "    for linha in range(len(df)):\n",
    "        if (df['SITUACAO_OSM'][linha] == \"FECHADA\") and (df['AVARIA'][linha] != \"FUNCIONAMENTO ANORMAL DO EQUIPAMENTO\"):\n",
    "            df_temp.append(df['AVARIA'][linha])\n",
    "        else:\n",
    "            descricao = df['DESCR_SERVICO'][linha].replace(\",,\", \",\").replace(f'({df[\"FORMACAO\"][linha]})', '').replace(df[\"TREM\"][linha], \"\").replace(\"REPARO DA ANORMALIDADE DO EQUIPAMENTO - \", \"\")\n",
    "            df_temp.append(descricao)\n",
    "    return df_temp\n",
    "\n",
    "def frota(df):\n",
    "    df.loc[df['GRUPO_SISTEMA'].str.contains(\"TRENS SÉRIE \"), 'GRUPO SISTEMA'] = \"\"\n",
    "    return df['GRUPO_SISTEMA']\n",
    "\n",
    "model_df = {\n",
    "    'OSM': df['OSM'],\n",
    "    'FROTA': df['GRUPO_SISTEMA'].str[-4:],\n",
    "    'TREM': df['TREM'],\n",
    "    'CARRO AVARIADO': df['CARRO_AVARIADO'],\n",
    "    'SITUAÇÃO OSM': df['SITUACAO_OSM'],\n",
    "    'DATA E HOTA': pd.to_datetime(df['DATAHORA_OSM'], format='%d/%m/%Y %H:%M'),\n",
    "    'OCORRÊNCIA': df['NR_OCORRENCIA'],\n",
    "    'SISTEMA': df['SISTEMA'],\n",
    "    'DESCRIÇÃO DA ABERTURA': descricao_servico(df),\n",
    "    'DESCRIÇÃO DO FECHAMENTO': df['ATUACAO_COMPLEMENTO']\n",
    "}"
   ]
  },
  {
   "cell_type": "code",
   "execution_count": 5,
   "metadata": {},
   "outputs": [],
   "source": [
    "model_df = pd.DataFrame(model_df)"
   ]
  },
  {
   "cell_type": "code",
   "execution_count": 6,
   "metadata": {},
   "outputs": [],
   "source": [
    "dim_frota = model_df['FROTA'].drop_duplicates().astype(int).sort_values()\n"
   ]
  },
  {
   "cell_type": "code",
   "execution_count": 9,
   "metadata": {},
   "outputs": [
    {
     "data": {
      "text/html": [
       "<div>\n",
       "<style scoped>\n",
       "    .dataframe tbody tr th:only-of-type {\n",
       "        vertical-align: middle;\n",
       "    }\n",
       "\n",
       "    .dataframe tbody tr th {\n",
       "        vertical-align: top;\n",
       "    }\n",
       "\n",
       "    .dataframe thead th {\n",
       "        text-align: right;\n",
       "    }\n",
       "</style>\n",
       "<table border=\"1\" class=\"dataframe\">\n",
       "  <thead>\n",
       "    <tr style=\"text-align: right;\">\n",
       "      <th></th>\n",
       "      <th>FROTA</th>\n",
       "    </tr>\n",
       "  </thead>\n",
       "  <tbody>\n",
       "    <tr>\n",
       "      <th>0</th>\n",
       "      <td>2000</td>\n",
       "    </tr>\n",
       "    <tr>\n",
       "      <th>1</th>\n",
       "      <td>2070</td>\n",
       "    </tr>\n",
       "    <tr>\n",
       "      <th>2</th>\n",
       "      <td>2500</td>\n",
       "    </tr>\n",
       "    <tr>\n",
       "      <th>3</th>\n",
       "      <td>7500</td>\n",
       "    </tr>\n",
       "    <tr>\n",
       "      <th>4</th>\n",
       "      <td>8000</td>\n",
       "    </tr>\n",
       "    <tr>\n",
       "      <th>5</th>\n",
       "      <td>8500</td>\n",
       "    </tr>\n",
       "    <tr>\n",
       "      <th>6</th>\n",
       "      <td>9000</td>\n",
       "    </tr>\n",
       "    <tr>\n",
       "      <th>7</th>\n",
       "      <td>9500</td>\n",
       "    </tr>\n",
       "  </tbody>\n",
       "</table>\n",
       "</div>"
      ],
      "text/plain": [
       "   FROTA\n",
       "0   2000\n",
       "1   2070\n",
       "2   2500\n",
       "3   7500\n",
       "4   8000\n",
       "5   8500\n",
       "6   9000\n",
       "7   9500"
      ]
     },
     "metadata": {},
     "output_type": "display_data"
    }
   ],
   "source": [
    "display(pd.DataFrame(dim_frota).reset_index(drop=True))"
   ]
  }
 ],
 "metadata": {
  "kernelspec": {
   "display_name": ".venv",
   "language": "python",
   "name": "python3"
  },
  "language_info": {
   "codemirror_mode": {
    "name": "ipython",
    "version": 3
   },
   "file_extension": ".py",
   "mimetype": "text/x-python",
   "name": "python",
   "nbconvert_exporter": "python",
   "pygments_lexer": "ipython3",
   "version": "3.13.0"
  }
 },
 "nbformat": 4,
 "nbformat_minor": 2
}
